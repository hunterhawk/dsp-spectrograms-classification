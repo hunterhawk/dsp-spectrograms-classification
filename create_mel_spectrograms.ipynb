{
 "cells": [
  {
   "cell_type": "code",
   "execution_count": null,
   "metadata": {
    "collapsed": true,
    "scrolled": true
   },
   "outputs": [],
   "source": [
    "# Create a spectrogram using Mel cepstral filter\n",
    "\n",
    "# From Wikipedia: https://en.wikipedia.org/wiki/Mel-frequency_cepstrum\n",
    "# In sound processing, the mel-frequency cepstrum (MFC) is a representation of the short-term power spectrum\n",
    "# of a sound, based on a linear cosine transform of a log power spectrum on a nonlinear mel scale of frequency.\n",
    "\n",
    "# Create spectrograms with Short-term Fourier Transformation: https://librosa.github.io/librosa/generated/librosa.core.stft.html#librosa.core.stft\n",
    "\n",
    "#%matplotlib inline    # Enable this to print inline in the notebook\n",
    "\n",
    "import librosa\n",
    "import numpy as np\n",
    "import matplotlib\n",
    "import matplotlib.pyplot as plt\n",
    "import os\n",
    "import time\n",
    "\n",
    "# The librosa.display module needs to be explicitly imported (See https://github.com/librosa/librosa/issues/441)\n",
    "import librosa.display\n",
    "\n",
    "\n",
    "files_location = \"/Volumes/EXTERNAL/MusicEngine/wav/non_cases/\"\n",
    "mel_spectrogram_location = \"/Volumes/EXTERNAL/MusicEngine/mel_spectrogram/non_cases/\"\n",
    "\n",
    "# Create a list with all the WAV files in the directory and create Mel spectrograms\n",
    "songs_idx = [x.split(\".wav\")[0] for x in os.listdir(files_location)]\n",
    "converted_songs_idx = [x.split(\".png\")[0] for x in os.listdir(mel_spectrogram_location)]\n",
    "song_id_list = [(x + \".wav\") for x in (list(set(songs_idx) - set(converted_songs_idx)))]\n",
    "\n",
    "song_counter = len(song_id_list) - 1\n",
    "\n",
    "for song in song_id_list:\n",
    "    if song.split(\".\")[1] == \"wav\":\n",
    "        time.sleep(1)\n",
    "        print(\"Working on song ID: %s\" % song.split(\".\")[0])\n",
    "\n",
    "        song_path = files_location + song\n",
    "        audio_data, sampling_rate = librosa.load(song_path,\n",
    "                                                 mono = True,                # When mono = True, the values appear to be averaged. They are slightly different from just taking one of the channels  \n",
    "                                                 sr = 11025,                 # The downsampling doesn't seem to change ther results\n",
    "                                                 res_type = \"kaiser_best\")   # Downsampling method. For a faster method use \"kaiser_fast\"\n",
    "\n",
    "        # Calculate the Mel spectrum\n",
    "        mel_spectrogram = librosa.feature.melspectrogram(\n",
    "            y = audio_data,\n",
    "            sr = sampling_rate,\n",
    "            n_mels = 128,\n",
    "            n_fft = 2048,         # Length of the window for the FFT\n",
    "            hop_length = 1024)    # Number of samples between successive frames\n",
    "\n",
    "        # Calculate audio dB along the song\n",
    "        spectrogram = librosa.power_to_db(\n",
    "            mel_spectrogram,\n",
    "            ref = np.max)\n",
    "\n",
    "        # Plot Mel spectrogram - do not print out axes names, and the \n",
    "        plt.figure(figsize = (12, 8))\n",
    "        librosa.display.specshow(spectrogram\n",
    "                                 ,fmax = 20000\n",
    "                                 #,y_axis = \"mel\"\n",
    "                                 #,x_axis = \"time\"\n",
    "                                )\n",
    "        #plt.colorbar(format = \"%+2.0f dB\")\n",
    "        #plt.title('Mel spectrogram')\n",
    "        #plt.tight_layout()\n",
    "        plt.savefig(mel_spectrogram_location + song.split(\".\")[0] + \".png\")\n",
    "        \n",
    "        print(\"->> %s more videos to create spectrograms for ...\" % song_counter)\n",
    "        song_counter -= 1\n",
    "\n",
    "print(\"Done creating spectrograms... \\nCheck the results\")\n"
   ]
  },
  {
   "cell_type": "code",
   "execution_count": 11,
   "metadata": {
    "collapsed": true
   },
   "outputs": [],
   "source": [
    "# Test the quality of the audio when the songs are downsampled\n",
    "# I listened to the downsampled songs, and they seem to have very similar quality, but slighly lower frequency\n",
    "test_audio_data, sampling_rate = librosa.load(path = \"/Users/valentin/Documents/MusicEngine/wav/uXtfQCNf3JA.wav\",\n",
    "                                              sr = 11025,\n",
    "                                              mono = False)\n",
    "librosa.output.write_wav(y = test_audio_data,\n",
    "                         sr = sampling_rate,\n",
    "                         path =\"/Users/valentin/Documents/MusicEngine/wav/uXtfQCNf3JA_11025.wav\")"
   ]
  },
  {
   "cell_type": "code",
   "execution_count": null,
   "metadata": {
    "collapsed": true
   },
   "outputs": [],
   "source": []
  }
 ],
 "metadata": {
  "kernelspec": {
   "display_name": "Python 2",
   "language": "python",
   "name": "python2"
  },
  "language_info": {
   "codemirror_mode": {
    "name": "ipython",
    "version": 2
   },
   "file_extension": ".py",
   "mimetype": "text/x-python",
   "name": "python",
   "nbconvert_exporter": "python",
   "pygments_lexer": "ipython2",
   "version": "2.7.13"
  }
 },
 "nbformat": 4,
 "nbformat_minor": 2
}
